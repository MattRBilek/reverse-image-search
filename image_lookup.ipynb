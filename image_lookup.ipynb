{
  "cells": [
    {
      "cell_type": "markdown",
      "metadata": {
        "id": "SyKxfA_WGgzS"
      },
      "source": [
        "This is a test to try basic ML/AI technqiues for reverse image search.\n",
        "\n",
        "This uses images that were scraped from a store.\n",
        "\n",
        "This is the code will be using ecoding/decoding and KNN"
      ]
    },
    {
      "cell_type": "code",
      "execution_count": null,
      "metadata": {
        "id": "9rROar0UF5YO",
        "outputId": "76397dae-0fff-4d18-d954-904cbcbd81fa"
      },
      "outputs": [
        {
          "name": "stderr",
          "output_type": "stream",
          "text": [
            "C:\\Users\\mattb\\AppData\\Local\\Temp/ipykernel_3916/499987355.py:9: DeprecationWarning: PILLOW_VERSION is deprecated and will be removed in Pillow 9 (2022-01-02). Use __version__ instead.\n",
            "  from PIL import Image, ImageOps, ImageEnhance, PILLOW_VERSION, ImageFile\n"
          ]
        }
      ],
      "source": [
        "import torch\n",
        "from tqdm import tqdm\n",
        "from torch.utils.data import Dataset\n",
        "from torchvision import datasets\n",
        "from torchvision.transforms import ToTensor\n",
        "import torchvision.transforms as T\n",
        "import matplotlib.pyplot as plt\n",
        "import torch.nn as nn\n",
        "from PIL import Image, ImageOps, ImageEnhance, PILLOW_VERSION, ImageFile\n",
        "ImageFile.LOAD_TRUNCATED_IMAGES = True\n",
        "import os\n",
        "device = torch.device(\"cuda:0\" if torch.cuda.is_available() else \"gpu\")"
      ]
    },
    {
      "cell_type": "code",
      "execution_count": null,
      "metadata": {
        "id": "m7ospo8hEiCy"
      },
      "outputs": [],
      "source": [
        "class FolderDataset(Dataset):\n",
        "    \"\"\"\n",
        "    Creates a PyTorch dataset from folder, returning two tensor images.\n",
        "    Args: \n",
        "    main_dir : directory where images are stored.\n",
        "    transform (optional) : torchvision transforms to be applied while making dataset\n",
        "    \"\"\"\n",
        "\n",
        "    def __init__(self, main_dir, transform=None):\n",
        "        self.main_dir = main_dir\n",
        "        self.transform = transform\n",
        "        self.all_imgs = os.listdir(main_dir)\n",
        "\n",
        "    def __len__(self):\n",
        "        return len(self.all_imgs)\n",
        "\n",
        "    def __getitem__(self, idx):\n",
        "        img_loc = os.path.join(self.main_dir, self.all_imgs[idx])\n",
        "        image = Image.open(img_loc).convert(\"RGB\")\n",
        "\n",
        "        if self.transform is not None:\n",
        "            tensor_image = self.transform(image)\n",
        "\n",
        "        return tensor_image, tensor_image"
      ]
    },
    {
      "cell_type": "code",
      "execution_count": null,
      "metadata": {
        "id": "ApHnn9C_GRO_"
      },
      "outputs": [],
      "source": [
        "class ConvEncoder(nn.Module):\n",
        "    \"\"\"\n",
        "    A simple Convolutional Encoder Model\n",
        "    \"\"\"\n",
        "\n",
        "    def __init__(self):\n",
        "        super().__init__()\n",
        "\n",
        "        self.conv1 = nn.Conv2d(3, 16, (3, 3), padding=(1, 1))\n",
        "        self.relu1 = nn.ReLU(inplace=True)\n",
        "        self.maxpool1 = nn.MaxPool2d((2, 2))\n",
        "\n",
        "        self.conv2 = nn.Conv2d(16, 32, (3, 3), padding=(1, 1))\n",
        "        self.relu2 = nn.ReLU(inplace=True)\n",
        "        self.maxpool2 = nn.MaxPool2d((2, 2))\n",
        "\n",
        "        self.conv3 = nn.Conv2d(32, 64, (3, 3), padding=(1, 1))\n",
        "        self.relu3 = nn.ReLU(inplace=True)\n",
        "        self.maxpool3 = nn.MaxPool2d((2, 2))\n",
        "\n",
        "        self.conv4 = nn.Conv2d(64, 128, (3, 3), padding=(1, 1))\n",
        "        self.relu4 = nn.ReLU(inplace=True)\n",
        "        self.maxpool4 = nn.MaxPool2d((2, 2))\n",
        "\n",
        "        self.conv5 = nn.Conv2d(128, 256, (3, 3), padding=(1, 1))\n",
        "        self.relu5 = nn.ReLU(inplace=True)\n",
        "        self.maxpool5 = nn.MaxPool2d((2, 2))\n",
        "\n",
        "    def forward(self, x):\n",
        "        # Downscale the image with conv maxpool etc.\n",
        "\n",
        "        x = self.conv1(x)\n",
        "        x = self.relu1(x)\n",
        "        x = self.maxpool1(x)\n",
        "\n",
        "        x = self.conv2(x)\n",
        "        x = self.relu2(x)\n",
        "        x = self.maxpool2(x)\n",
        "\n",
        "        x = self.conv3(x)\n",
        "        x = self.relu3(x)\n",
        "        x = self.maxpool3(x)\n",
        "\n",
        "        x = self.conv4(x)\n",
        "        x = self.relu4(x)\n",
        "        x = self.maxpool4(x)\n",
        "\n",
        "        x = self.conv5(x)\n",
        "        x = self.relu5(x)\n",
        "        x = self.maxpool5(x)\n",
        "\n",
        "        \n",
        "        return x"
      ]
    },
    {
      "cell_type": "code",
      "execution_count": null,
      "metadata": {
        "id": "90-uTU-3GRPF"
      },
      "outputs": [],
      "source": [
        "class ConvDecoder(nn.Module):\n",
        "    \"\"\"\n",
        "    A simple Convolutional Decoder Model\n",
        "    \"\"\"\n",
        "\n",
        "    def __init__(self):\n",
        "        super().__init__()\n",
        "        self.deconv1 = nn.ConvTranspose2d(256, 128, (2, 2), stride=(2, 2), output_padding=(1,1))\n",
        "        self.relu1 = nn.ReLU(inplace=True)\n",
        "\n",
        "        self.deconv2 = nn.ConvTranspose2d(128, 64, (2, 2), stride=(2, 2), output_padding=(1,0))\n",
        "        self.relu2 = nn.ReLU(inplace=True)\n",
        "\n",
        "        self.deconv3 = nn.ConvTranspose2d(64, 32, (2, 2), stride=(2, 2))\n",
        "        self.relu3 = nn.ReLU(inplace=True)\n",
        "\n",
        "        self.deconv4 = nn.ConvTranspose2d(32, 16, (2, 2), stride=(2, 2), output_padding=(1,0))\n",
        "        self.relu4 = nn.ReLU(inplace=True)\n",
        "\n",
        "        self.deconv5 = nn.ConvTranspose2d(16, 3, (2, 2), stride=(2, 2))\n",
        "        self.relu5 = nn.ReLU(inplace=True)\n",
        "\n",
        "    def forward(self, x):\n",
        "         # Upscale the image with convtranspose etc.\n",
        "\n",
        "        x = self.deconv1(x)\n",
        "        x = self.relu1(x)\n",
        "\n",
        "        x = self.deconv2(x)\n",
        "        x = self.relu2(x)\n",
        "\n",
        "        x = self.deconv3(x)\n",
        "        x = self.relu3(x)\n",
        "\n",
        "        x = self.deconv4(x)\n",
        "        x = self.relu4(x)\n",
        "\n",
        "        x = self.deconv5(x)\n",
        "        x = self.relu5(x)\n",
        "\n",
        "        return x"
      ]
    },
    {
      "cell_type": "code",
      "execution_count": null,
      "metadata": {
        "id": "bw-fjqB6GRPL"
      },
      "outputs": [],
      "source": [
        "def train_step(encoder, decoder, train_loader, loss_fn, optimizer, device):\n",
        "    \"\"\"\n",
        "    Performs a single training step\n",
        "    Args:\n",
        "    encoder: A convolutional Encoder. E.g. torch_model ConvEncoder\n",
        "    decoder: A convolutional Decoder. E.g. torch_model ConvDecoder\n",
        "    train_loader: PyTorch dataloader, containing (images, images).\n",
        "    loss_fn: PyTorch loss_fn, computes loss between 2 images.\n",
        "    optimizer: PyTorch optimizer.\n",
        "    device: \"cuda\" or \"cpu\"\n",
        "    Returns: Train Loss\n",
        "    \"\"\"\n",
        "    #  Set networks to train mode.\n",
        "    encoder.train()\n",
        "    decoder.train()\n",
        "\n",
        "    for batch_idx, (train_img, target_img) in enumerate(train_loader):\n",
        "        # Move images to device\n",
        "        train_img = train_img.to(device)\n",
        "        target_img = target_img.to(device)\n",
        "        \n",
        "        # Zero grad the optimizer\n",
        "        optimizer.zero_grad()\n",
        "        # Feed the train images to encoder\n",
        "        enc_output = encoder(train_img)\n",
        "        # The output of encoder is input to decoder !\n",
        "        dec_output = decoder(enc_output)\n",
        "        \n",
        "        # Decoder output is reconstructed image\n",
        "        # Compute loss with it and orginal image which is target image.\n",
        "        loss = loss_fn(dec_output, target_img)\n",
        "        # Backpropogate\n",
        "        loss.backward()\n",
        "        # Apply the optimizer to network by calling step.\n",
        "        optimizer.step()\n",
        "    # Return the loss\n",
        "    return loss.item()\n",
        "\n",
        "def val_step(encoder, decoder, val_loader, loss_fn, device):\n",
        "    \"\"\"\n",
        "    Performs a single training step\n",
        "    Args:\n",
        "    encoder: A convolutional Encoder. E.g. torch_model ConvEncoder\n",
        "    decoder: A convolutional Decoder. E.g. torch_model ConvDecoder\n",
        "    val_loader: PyTorch dataloader, containing (images, images).\n",
        "    loss_fn: PyTorch loss_fn, computes loss between 2 images.\n",
        "    device: \"cuda\" or \"cpu\"\n",
        "    Returns: Validation Loss\n",
        "    \"\"\"\n",
        "    \n",
        "    # Set to eval mode.\n",
        "    encoder.eval()\n",
        "    decoder.eval()\n",
        "    \n",
        "    # We don't need to compute gradients while validating.\n",
        "    with torch.no_grad():\n",
        "        for batch_idx, (train_img, target_img) in enumerate(val_loader):\n",
        "            # Move to device\n",
        "            train_img = train_img.to(device)\n",
        "            target_img = target_img.to(device)\n",
        "\n",
        "            # Again as train. Feed encoder the train image.\n",
        "            enc_output = encoder(train_img)\n",
        "            # Decoder takes encoder output and reconstructs the image.\n",
        "            dec_output = decoder(enc_output)\n",
        "            \n",
        "            # Validation loss for encoder and decoder.\n",
        "            loss = loss_fn(dec_output, target_img)\n",
        "    # Return the loss\n",
        "    return loss.item()"
      ]
    },
    {
      "cell_type": "code",
      "execution_count": null,
      "metadata": {
        "id": "HDkkfH-jGRPN",
        "outputId": "7c61b633-df5c-4fa0-ed71-8365c7d16ea4"
      },
      "outputs": [
        {
          "name": "stderr",
          "output_type": "stream",
          "text": [
            "0it [00:00, ?it/s]\n"
          ]
        }
      ],
      "source": [
        "transforms = T.Compose([T.ToTensor(), T.Resize((506,400))]) # Normalize the pixels and convert to tensor.\n",
        "\n",
        "full_dataset = FolderDataset(\"dataset\", transforms) # Create folder dataset.\n",
        "\"\"\"\n",
        "train_size = int(len(full_dataset) * .75) # set train size to be 75% of dataset\n",
        "val_size = len(full_dataset) - train_size # validate on 25%\n",
        "\"\"\"\n",
        "throw_away = int(len(full_dataset) * .85) # throwing away to increase training speed\n",
        "train_size = int(len(full_dataset) * .10)\n",
        "val_size = len(full_dataset) - train_size - throw_away # validate on 25%\n",
        "\n",
        "# Split data to train and test\n",
        "train_dataset, val_dataset, _ = torch.utils.data.random_split(full_dataset, [train_size, val_size, throw_away]) \n",
        "\n",
        "\n",
        "batch_size = 64\n",
        "# Create the train dataloader\n",
        "train_loader = torch.utils.data.DataLoader(train_dataset, batch_size=32, shuffle=True)\n",
        " \n",
        "# Create the validation dataloader\n",
        "val_loader = torch.utils.data.DataLoader(val_dataset, batch_size=32)\n",
        "\n",
        "# Create the full dataloader\n",
        "full_loader = torch.utils.data.DataLoader(full_dataset, batch_size=32)\n",
        "\n",
        "loss_fn = nn.MSELoss() # We use Mean squared loss which computes difference between two images.\n",
        "\n",
        "encoder = ConvEncoder() # Our encoder model\n",
        "decoder = ConvDecoder() # Our decoder model\n",
        "\n",
        "\n",
        "# Shift models to GPU\n",
        "encoder.to(device)\n",
        "decoder.to(device)\n",
        "\n",
        "# Both the enocder and decoder parameters\n",
        "autoencoder_params = list(encoder.parameters()) + list(decoder.parameters())\n",
        "optimizer = torch.optim.Adam(autoencoder_params, lr=1e-3) # Adam Optimizer\n",
        "\n",
        "# only two epochs to not fry my laptop\n",
        "EPOCHS = 2\n",
        "# Usual Training Loop\n",
        "for epoch in tqdm(range(EPOCHS)):\n",
        "        train_loss = train_step(encoder, decoder, train_loader, loss_fn, optimizer, device=device)\n",
        "        \n",
        "        print(f\"Epochs = {epoch}, Training Loss : {train_loss}\")\n",
        "        \n",
        "        val_loss = val_step(encoder, decoder, val_loader, loss_fn, device=device)\n",
        "        \n",
        "        print(f\"Epochs = {epoch}, Validation Loss : {val_loss}\")\n",
        "\n",
        "        print(\"Validation Loss decreased, saving new best model\")\n",
        "        #torch.save(encoder.state_dict(), \"encoder_model.pt\")\n",
        "        #torch.save(decoder.state_dict(), \"decoder_model.pt\")\n"
      ]
    },
    {
      "cell_type": "code",
      "execution_count": null,
      "metadata": {
        "id": "ic7fXRe4GRPR",
        "outputId": "5927fa13-7665-465c-876e-0e2ec24ddf94"
      },
      "outputs": [
        {
          "data": {
            "text/plain": [
              "ConvEncoder(\n",
              "  (conv1): Conv2d(3, 16, kernel_size=(3, 3), stride=(1, 1), padding=(1, 1))\n",
              "  (relu1): ReLU(inplace=True)\n",
              "  (maxpool1): MaxPool2d(kernel_size=(2, 2), stride=(2, 2), padding=0, dilation=1, ceil_mode=False)\n",
              "  (conv2): Conv2d(16, 32, kernel_size=(3, 3), stride=(1, 1), padding=(1, 1))\n",
              "  (relu2): ReLU(inplace=True)\n",
              "  (maxpool2): MaxPool2d(kernel_size=(2, 2), stride=(2, 2), padding=0, dilation=1, ceil_mode=False)\n",
              "  (conv3): Conv2d(32, 64, kernel_size=(3, 3), stride=(1, 1), padding=(1, 1))\n",
              "  (relu3): ReLU(inplace=True)\n",
              "  (maxpool3): MaxPool2d(kernel_size=(2, 2), stride=(2, 2), padding=0, dilation=1, ceil_mode=False)\n",
              "  (conv4): Conv2d(64, 128, kernel_size=(3, 3), stride=(1, 1), padding=(1, 1))\n",
              "  (relu4): ReLU(inplace=True)\n",
              "  (maxpool4): MaxPool2d(kernel_size=(2, 2), stride=(2, 2), padding=0, dilation=1, ceil_mode=False)\n",
              "  (conv5): Conv2d(128, 256, kernel_size=(3, 3), stride=(1, 1), padding=(1, 1))\n",
              "  (relu5): ReLU(inplace=True)\n",
              "  (maxpool5): MaxPool2d(kernel_size=(2, 2), stride=(2, 2), padding=0, dilation=1, ceil_mode=False)\n",
              ")"
            ]
          },
          "execution_count": 7,
          "metadata": {},
          "output_type": "execute_result"
        }
      ],
      "source": [
        "encoder = ConvEncoder() # load encoder so we can test\n",
        "encoder.load_state_dict(torch.load(\"encoder_model.pt\"))\n",
        "encoder.to(device)"
      ]
    },
    {
      "cell_type": "code",
      "execution_count": null,
      "metadata": {
        "id": "6st3iqQIGRPU"
      },
      "outputs": [],
      "source": [
        "# set up the encoder\n",
        "encoder.eval()\n",
        "full_loader = torch.utils.data.DataLoader(full_dataset, batch_size=128)\n",
        "embedding = None\n",
        "with torch.no_grad():\n",
        "        for batch_idx, (train_img, target_img) in enumerate(full_loader):\n",
        "            train_img = train_img.to(device)\n",
        "            \n",
        "            enc_output = encoder(train_img).cpu()\n",
        "            if embedding is None:\n",
        "                embedding = enc_output\n",
        "            else:\n",
        "                embedding = torch.cat((embedding, enc_output), 0)"
      ]
    },
    {
      "cell_type": "code",
      "execution_count": null,
      "metadata": {
        "id": "yC7VReYcGRPY"
      },
      "outputs": [],
      "source": [
        "# reshape the embedding flattening the laten space\n",
        "embedding_single = embedding.reshape(6899,-1)"
      ]
    },
    {
      "cell_type": "code",
      "execution_count": null,
      "metadata": {
        "id": "oz4RFdKhGRPa"
      },
      "outputs": [],
      "source": [
        "url_to_embedding = {} # url to latent space\n",
        "i = 0\n",
        "for root, dirs, files in os.walk(\"./dataset\", topdown=False):\n",
        "    for name in files:\n",
        "        url_to_embedding[name] = embedding_single[i].tolist()\n",
        "        i += 1"
      ]
    },
    {
      "cell_type": "code",
      "execution_count": null,
      "metadata": {
        "id": "vMJ250D5GRPc"
      },
      "outputs": [],
      "source": [
        "import json\n",
        "with open('convert.txt', 'w') as convert_file:\n",
        "     convert_file.write(json.dumps(url_to_embedding)) # save file as json to ensure that it can be used later as a standalone lookup table"
      ]
    },
    {
      "cell_type": "code",
      "execution_count": null,
      "metadata": {
        "id": "RCAoyxeuGRPd",
        "outputId": "410dafe4-cad9-45f9-f7c0-921a99fafb05"
      },
      "outputs": [
        {
          "data": {
            "text/plain": [
              "KNeighborsClassifier(n_neighbors=10)"
            ]
          },
          "execution_count": 22,
          "metadata": {},
          "output_type": "execute_result"
        }
      ],
      "source": [
        "from sklearn.neighbors import KNeighborsClassifier\n",
        "\n",
        "values  = list(url_to_embedding.values())\n",
        "url_outputs = list(url_to_embedding.keys())\n",
        "\n",
        "neigh = KNeighborsClassifier(n_neighbors=10) # convert json to KNN useing sklearn\n",
        "neigh.fit(values, url_outputs)"
      ]
    },
    {
      "cell_type": "code",
      "execution_count": null,
      "metadata": {
        "id": "-meXEwJ5GRPf",
        "outputId": "044cdd8c-af8d-4168-8297-99f93c36fc02"
      },
      "outputs": [
        {
          "data": {
            "image/png": "[encoded data removed]",
            "text/plain": [
              "<Figure size 1008x432 with 10 Axes>"
            ]
          },
          "metadata": {
            "needs_background": "light"
          },
          "output_type": "display_data"
        }
      ],
      "source": [
        "import matplotlib.pyplot as plt\n",
        "import matplotlib.image as mpimg\n",
        "\n",
        "import matplotlib.pyplot as plt\n",
        "\n",
        "#show images passed in\n",
        "def show_images(images_url_index) -> None:\n",
        "    n: int = len(images_url_index)\n",
        "    f = plt.figure()\n",
        "    f.set_size_inches(14, 6, forward=True)\n",
        "    for i in range(n):\n",
        "        # Debug, plot figure\n",
        "        f.add_subplot(1, n, i + 1)\n",
        "        img = mpimg.imread('dataset/'+url_outputs[images_url_index[i]])\n",
        "        plt.imshow(img)\n",
        "\n",
        "    plt.show(block=True)\n",
        "\n",
        "\n",
        "#test with values to ensure they look ok (first image shown is input image as imput image is alway within the dataset)\n",
        "distances, indexes = neigh.kneighbors([values[3400]], 10)\n",
        "\n",
        "show_images(indexes[0])\n"
      ]
    },
    {
      "cell_type": "code",
      "execution_count": null,
      "metadata": {
        "id": "twP0lRhvGRPh"
      },
      "outputs": [],
      "source": []
    }
  ],
  "metadata": {
    "colab": {
      "provenance": []
    },
    "kernelspec": {
      "display_name": "Python 3 (ipykernel)",
      "language": "python",
      "name": "python3"
    },
    "language_info": {
      "codemirror_mode": {
        "name": "ipython",
        "version": 3
      },
      "file_extension": ".py",
      "mimetype": "text/x-python",
      "name": "python",
      "nbconvert_exporter": "python",
      "pygments_lexer": "ipython3",
      "version": "3.9.7"
    }
  },
  "nbformat": 4,
  "nbformat_minor": 0
}